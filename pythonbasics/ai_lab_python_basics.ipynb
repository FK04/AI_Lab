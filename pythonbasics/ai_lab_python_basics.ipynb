{
  "nbformat": 4,
  "nbformat_minor": 0,
  "metadata": {
    "colab": {
      "provenance": []
    },
    "kernelspec": {
      "name": "python3",
      "display_name": "Python 3"
    },
    "language_info": {
      "name": "python"
    }
  },
  "cells": [
    {
      "cell_type": "code",
      "execution_count": null,
      "metadata": {
        "colab": {
          "base_uri": "https://localhost:8080/"
        },
        "id": "BXuZYkVTGEKz",
        "outputId": "74cbf364-3f2b-47a0-cb47-5e6a6421fa25"
      },
      "outputs": [
        {
          "output_type": "stream",
          "name": "stdout",
          "text": [
            "<class 'str'>\n",
            "your message is hello\n"
          ]
        }
      ],
      "source": [
        "message=\"hello\"\n",
        "print(type(message))\n",
        "print(\"your message is\",message)"
      ]
    },
    {
      "cell_type": "code",
      "source": [],
      "metadata": {
        "id": "-P_NcNERqzWb"
      },
      "execution_count": null,
      "outputs": []
    },
    {
      "cell_type": "code",
      "source": [
        "message=input(\"enter ur message\")\n",
        "print(\"you have entered\",message)"
      ],
      "metadata": {
        "colab": {
          "base_uri": "https://localhost:8080/"
        },
        "id": "ed5uMAIVGblf",
        "outputId": "5faf2eb1-c531-4938-fd58-27e03f1d1c56"
      },
      "execution_count": null,
      "outputs": [
        {
          "output_type": "stream",
          "name": "stdout",
          "text": [
            "enter ur messagesana\n",
            "you have entered sana\n"
          ]
        }
      ]
    },
    {
      "cell_type": "code",
      "source": [
        "#arithmetic operations\n",
        "a=3\n",
        "b=2\n",
        "a+b"
      ],
      "metadata": {
        "colab": {
          "base_uri": "https://localhost:8080/"
        },
        "id": "eIe8L9ClGm5p",
        "outputId": "1d5bb23b-4b11-4459-9926-6c3fcbabc393"
      },
      "execution_count": null,
      "outputs": [
        {
          "output_type": "execute_result",
          "data": {
            "text/plain": [
              "5"
            ]
          },
          "metadata": {},
          "execution_count": 25
        }
      ]
    },
    {
      "cell_type": "code",
      "source": [
        "a=3\n",
        "b=\"sam\"\n",
        "print(b+str(a))#str() converts specified value to a string\n",
        "print(b*a)\n",
        "print(a**2)\n",
        "print(a-1)\n",
        "print(a/3)\n",
        "print(a//3)#floor division  5//2=2  as 5/2=2.5 no decimal point will be considered\n",
        "print(a%3)"
      ],
      "metadata": {
        "colab": {
          "base_uri": "https://localhost:8080/"
        },
        "id": "DP-ZBHp4GxhS",
        "outputId": "be84c3a5-9391-401e-e671-21fad43be36d"
      },
      "execution_count": null,
      "outputs": [
        {
          "output_type": "stream",
          "name": "stdout",
          "text": [
            "sam3\n",
            "samsamsam\n",
            "9\n",
            "2\n",
            "1.0\n",
            "1\n",
            "0\n"
          ]
        }
      ]
    },
    {
      "cell_type": "code",
      "source": [
        "#Loops\n",
        "#range function returns a sequence of numbers starting from 0 which is default value and increments by 1\n",
        "for i in range(0,5):\n",
        "  print(i)"
      ],
      "metadata": {
        "colab": {
          "base_uri": "https://localhost:8080/"
        },
        "id": "yPuSdIO7IQA-",
        "outputId": "c4863878-6385-47b3-dc46-e903ac63fb6d"
      },
      "execution_count": null,
      "outputs": [
        {
          "output_type": "stream",
          "name": "stdout",
          "text": [
            "0\n",
            "1\n",
            "2\n",
            "3\n",
            "4\n"
          ]
        }
      ]
    },
    {
      "cell_type": "code",
      "source": [
        "#while loop\n",
        "i=1\n",
        "while i<=5:\n",
        "    print(i, end=' ')#end specified the character with which statement should end\n",
        "    i+=1"
      ],
      "metadata": {
        "colab": {
          "base_uri": "https://localhost:8080/"
        },
        "id": "wyZSeL8zIkZC",
        "outputId": "8f43537b-2c8d-4d8d-938f-224ed4436f72"
      },
      "execution_count": null,
      "outputs": [
        {
          "output_type": "stream",
          "name": "stdout",
          "text": [
            "1 2 3 4 5 "
          ]
        }
      ]
    },
    {
      "cell_type": "code",
      "source": [
        "i = 1\n",
        "\n",
        "while True:\n",
        "    print(i)\n",
        "    i = i + 1\n",
        "    if(i > 5):\n",
        "        break"
      ],
      "metadata": {
        "colab": {
          "base_uri": "https://localhost:8080/"
        },
        "id": "HSmwe_qPJBzT",
        "outputId": "96116213-c987-49ed-95ce-c09050af9519"
      },
      "execution_count": null,
      "outputs": [
        {
          "output_type": "stream",
          "name": "stdout",
          "text": [
            "1\n",
            "2\n",
            "3\n",
            "4\n",
            "5\n"
          ]
        }
      ]
    },
    {
      "cell_type": "code",
      "source": [
        "#for with else\n",
        "n=5\n",
        "for i in range(n):\n",
        "  print(i)\n",
        "else:\n",
        "  print(\"for loop\")"
      ],
      "metadata": {
        "colab": {
          "base_uri": "https://localhost:8080/"
        },
        "id": "OecCbV1OJY5K",
        "outputId": "a811d1ac-35a3-4c40-bf1c-4c0e6950bd6c"
      },
      "execution_count": null,
      "outputs": [
        {
          "output_type": "stream",
          "name": "stdout",
          "text": [
            "0\n",
            "1\n",
            "2\n",
            "3\n",
            "4\n",
            "for loop\n"
          ]
        }
      ]
    },
    {
      "cell_type": "code",
      "source": [
        "#while loop with else\n",
        "counter = 0\n",
        "\n",
        "while counter < 3:\n",
        "    print('Inside loop')\n",
        "    counter = counter + 1\n",
        "else:\n",
        "    print('Inside else')"
      ],
      "metadata": {
        "colab": {
          "base_uri": "https://localhost:8080/"
        },
        "id": "F46iZIBrKNCO",
        "outputId": "c3f8bb32-f2b9-4151-d438-a41ca1426650"
      },
      "execution_count": null,
      "outputs": [
        {
          "output_type": "stream",
          "name": "stdout",
          "text": [
            "Inside loop\n",
            "Inside loop\n",
            "Inside loop\n",
            "Inside else\n"
          ]
        }
      ]
    },
    {
      "cell_type": "code",
      "source": [
        "#if constructs\n",
        "number = 10\n",
        "\n",
        "# check if number is greater than 0\n",
        "if number > 0:\n",
        "    print('Number is positive.')\n",
        "else:\n",
        "    print('number is negative')"
      ],
      "metadata": {
        "colab": {
          "base_uri": "https://localhost:8080/"
        },
        "id": "cua2Nfcpav5i",
        "outputId": "6f010bb5-b4ae-4b9b-b0a0-bb8df44e91c5"
      },
      "execution_count": null,
      "outputs": [
        {
          "output_type": "stream",
          "name": "stdout",
          "text": [
            "Number is positive.\n"
          ]
        }
      ]
    },
    {
      "cell_type": "code",
      "source": [
        "#swap two numbers\n",
        "x=5\n",
        "y=10\n",
        "x,y=y,x\n",
        "print(\"number x=\",x)\n",
        "print(\"y=\",y)"
      ],
      "metadata": {
        "colab": {
          "base_uri": "https://localhost:8080/"
        },
        "id": "mia7Pu9McaUO",
        "outputId": "f4726a09-2a35-4695-f55c-d890829d8a61"
      },
      "execution_count": null,
      "outputs": [
        {
          "output_type": "stream",
          "name": "stdout",
          "text": [
            "number x= 10\n",
            "y= 5\n"
          ]
        }
      ]
    },
    {
      "cell_type": "code",
      "source": [
        "#armstrong numbers(0,1,153,370 etc)\n",
        "num=int(input(\"enter the number\"))\n",
        "sum=0\n",
        "temp=num\n",
        "while temp>0:\n",
        "  digit=temp%10\n",
        "  sum+=digit**3\n",
        "  temp//=10\n",
        "if num==sum:\n",
        "  print(num,\"is armstrong\")\n",
        "else:\n",
        "  print(num,\"is not an armstrong\")"
      ],
      "metadata": {
        "colab": {
          "base_uri": "https://localhost:8080/"
        },
        "id": "IhiDyaIfFvE3",
        "outputId": "78e5a655-afa0-4f5c-b53a-bd2c72edc5d4"
      },
      "execution_count": null,
      "outputs": [
        {
          "output_type": "stream",
          "name": "stdout",
          "text": [
            "enter the number153\n",
            "153 is armstrong\n"
          ]
        }
      ]
    },
    {
      "cell_type": "code",
      "source": [
        "#FIND the largest of given 3 numbers\n",
        "a=int(input(\"enter the value of a\"))\n",
        "b=int(input(\"enter the value of b\"))\n",
        "c=int(input(\"enter the value of c\"))\n",
        "\n",
        "if a>b and a>c:\n",
        "  print(a,\"is largest\")\n",
        "elif b>a and b>c:\n",
        "  print(b,\"is largest\")\n",
        "elif c>a and c>b:\n",
        "  print(c,\"is largest\")\n",
        "else:\n",
        "  print(a,\"=\",b,\"=\",c)"
      ],
      "metadata": {
        "colab": {
          "base_uri": "https://localhost:8080/"
        },
        "id": "wLGTEuEIGPDX",
        "outputId": "eecb2a66-9761-4666-ffd0-236735296686"
      },
      "execution_count": null,
      "outputs": [
        {
          "output_type": "stream",
          "name": "stdout",
          "text": [
            "enter the value of a4\n",
            "enter the value of b3\n",
            "enter the value of c2\n",
            "4 is largest\n"
          ]
        }
      ]
    },
    {
      "cell_type": "code",
      "source": [
        "#find the factorial of a number\n",
        "num=int(input(\"enter the number: \"))\n",
        "fact=1\n",
        "if num < 0:\n",
        "  print(\"factorial of -ve number does not exist\")\n",
        "elif num==0:\n",
        "  print(\"factorial of 0 is\",fact)\n",
        "else:\n",
        "  for i in range(1,num+1):\n",
        "    fact=fact*i\n",
        "  print(fact)"
      ],
      "metadata": {
        "colab": {
          "base_uri": "https://localhost:8080/"
        },
        "id": "x3RA4tOrRaPJ",
        "outputId": "0043cd2e-e67d-4564-c9d9-c50e925d1331"
      },
      "execution_count": null,
      "outputs": [
        {
          "output_type": "stream",
          "name": "stdout",
          "text": [
            "enter the number: 4\n",
            "24\n"
          ]
        }
      ]
    },
    {
      "cell_type": "markdown",
      "source": [
        "Data Types-Numbers(int, float and complex)\n"
      ],
      "metadata": {
        "id": "p-whyqjoWn-6"
      }
    },
    {
      "cell_type": "code",
      "source": [
        "a=13\n"
      ],
      "metadata": {
        "id": "rMt_l7EcUYZm"
      },
      "execution_count": null,
      "outputs": []
    },
    {
      "cell_type": "code",
      "source": [
        "a"
      ],
      "metadata": {
        "colab": {
          "base_uri": "https://localhost:8080/"
        },
        "id": "vzGkB4UZWzLc",
        "outputId": "844a774e-f959-4697-fd7f-0f3429cc1f53"
      },
      "execution_count": null,
      "outputs": [
        {
          "output_type": "execute_result",
          "data": {
            "text/plain": [
              "13"
            ]
          },
          "metadata": {},
          "execution_count": 38
        }
      ]
    },
    {
      "cell_type": "code",
      "source": [
        "type(a)"
      ],
      "metadata": {
        "colab": {
          "base_uri": "https://localhost:8080/"
        },
        "id": "7CgHQuHlWztM",
        "outputId": "3226d404-f13f-496b-81dd-85b47816a4a4"
      },
      "execution_count": null,
      "outputs": [
        {
          "output_type": "execute_result",
          "data": {
            "text/plain": [
              "int"
            ]
          },
          "metadata": {},
          "execution_count": 39
        }
      ]
    },
    {
      "cell_type": "code",
      "source": [
        "b=3.14"
      ],
      "metadata": {
        "id": "42fpCRkdW1DM"
      },
      "execution_count": null,
      "outputs": []
    },
    {
      "cell_type": "code",
      "source": [
        "b"
      ],
      "metadata": {
        "colab": {
          "base_uri": "https://localhost:8080/"
        },
        "id": "8lSCVvRHXCIv",
        "outputId": "a9ebdbcc-9cf8-4905-e9b9-8ab3dd3379eb"
      },
      "execution_count": null,
      "outputs": [
        {
          "output_type": "execute_result",
          "data": {
            "text/plain": [
              "3.14"
            ]
          },
          "metadata": {},
          "execution_count": 41
        }
      ]
    },
    {
      "cell_type": "code",
      "source": [
        "type(b)"
      ],
      "metadata": {
        "colab": {
          "base_uri": "https://localhost:8080/"
        },
        "id": "6Yntd5agXC_U",
        "outputId": "70456c6c-164f-4b3d-fbef-09d32a734fdf"
      },
      "execution_count": null,
      "outputs": [
        {
          "output_type": "execute_result",
          "data": {
            "text/plain": [
              "float"
            ]
          },
          "metadata": {},
          "execution_count": 42
        }
      ]
    },
    {
      "cell_type": "code",
      "source": [
        "c=3.2+4.6j\n",
        "'''A complex number is a number that consists of a real part and an imaginary part'''"
      ],
      "metadata": {
        "id": "QJ1_rrkBXFUV",
        "colab": {
          "base_uri": "https://localhost:8080/",
          "height": 36
        },
        "outputId": "9e8bbf98-2bc2-44f6-a842-b398eaf8897a"
      },
      "execution_count": null,
      "outputs": [
        {
          "output_type": "execute_result",
          "data": {
            "text/plain": [
              "'A complex number is a number that consists of a real part and an imaginary part'"
            ],
            "application/vnd.google.colaboratory.intrinsic+json": {
              "type": "string"
            }
          },
          "metadata": {},
          "execution_count": 43
        }
      ]
    },
    {
      "cell_type": "code",
      "source": [
        "type(c)"
      ],
      "metadata": {
        "colab": {
          "base_uri": "https://localhost:8080/"
        },
        "id": "hR_WORXWXKW4",
        "outputId": "4f727f0e-2a82-4af9-a26c-7b95062d83f5"
      },
      "execution_count": null,
      "outputs": [
        {
          "output_type": "execute_result",
          "data": {
            "text/plain": [
              "complex"
            ]
          },
          "metadata": {},
          "execution_count": 44
        }
      ]
    },
    {
      "cell_type": "code",
      "source": [
        "result=True"
      ],
      "metadata": {
        "id": "K1lUs5yDXMZL"
      },
      "execution_count": null,
      "outputs": []
    },
    {
      "cell_type": "code",
      "source": [
        "type(result)"
      ],
      "metadata": {
        "colab": {
          "base_uri": "https://localhost:8080/"
        },
        "id": "X0lCCni1XQ0K",
        "outputId": "a3e5bf29-8ebf-4fe9-9a8a-26f7703b7bca"
      },
      "execution_count": null,
      "outputs": [
        {
          "output_type": "execute_result",
          "data": {
            "text/plain": [
              "bool"
            ]
          },
          "metadata": {},
          "execution_count": 46
        }
      ]
    },
    {
      "cell_type": "code",
      "source": [
        "a=True\n",
        "b=False\n",
        "print(a and b)"
      ],
      "metadata": {
        "colab": {
          "base_uri": "https://localhost:8080/"
        },
        "id": "LZC0n1LkXSqz",
        "outputId": "1f401206-ab9a-49b4-b479-853ed867013c"
      },
      "execution_count": null,
      "outputs": [
        {
          "output_type": "stream",
          "name": "stdout",
          "text": [
            "False\n"
          ]
        }
      ]
    },
    {
      "cell_type": "code",
      "source": [
        "a=True\n",
        "b=False\n",
        "print(a or b)"
      ],
      "metadata": {
        "colab": {
          "base_uri": "https://localhost:8080/"
        },
        "id": "t1UCG1NVXbPx",
        "outputId": "45823832-046c-476c-92ba-b6566ac96aeb"
      },
      "execution_count": null,
      "outputs": [
        {
          "output_type": "stream",
          "name": "stdout",
          "text": [
            "True\n"
          ]
        }
      ]
    },
    {
      "cell_type": "code",
      "source": [
        "a=True\n",
        "b=False\n",
        "print(not b)"
      ],
      "metadata": {
        "colab": {
          "base_uri": "https://localhost:8080/"
        },
        "id": "eOUGhxPzXfXk",
        "outputId": "8d092ae0-2321-431c-fba2-edd6decf6f25"
      },
      "execution_count": null,
      "outputs": [
        {
          "output_type": "stream",
          "name": "stdout",
          "text": [
            "True\n"
          ]
        }
      ]
    },
    {
      "cell_type": "code",
      "source": [
        "#strings\n",
        "greet=\"hello\"\n"
      ],
      "metadata": {
        "id": "sTpFHUECXko2"
      },
      "execution_count": null,
      "outputs": []
    },
    {
      "cell_type": "code",
      "source": [
        "greet"
      ],
      "metadata": {
        "colab": {
          "base_uri": "https://localhost:8080/",
          "height": 36
        },
        "id": "MBRoPPnXh-fF",
        "outputId": "6d6f96c2-0b91-4439-cb0a-95ac8a4bec7c"
      },
      "execution_count": null,
      "outputs": [
        {
          "output_type": "execute_result",
          "data": {
            "text/plain": [
              "'hello'"
            ],
            "application/vnd.google.colaboratory.intrinsic+json": {
              "type": "string"
            }
          },
          "metadata": {},
          "execution_count": 51
        }
      ]
    },
    {
      "cell_type": "code",
      "source": [
        "for i in range(len(greet)):\n",
        "  print(greet[i])"
      ],
      "metadata": {
        "colab": {
          "base_uri": "https://localhost:8080/"
        },
        "id": "r-tfTPOch_wK",
        "outputId": "bd1d6ec7-3088-458c-946c-65180c6bb4b8"
      },
      "execution_count": null,
      "outputs": [
        {
          "output_type": "stream",
          "name": "stdout",
          "text": [
            "h\n",
            "e\n",
            "l\n",
            "l\n",
            "o\n"
          ]
        }
      ]
    },
    {
      "cell_type": "code",
      "source": [
        "msg=\"world\""
      ],
      "metadata": {
        "id": "OOcVeTZ0iHqV"
      },
      "execution_count": null,
      "outputs": []
    },
    {
      "cell_type": "code",
      "source": [
        "print(greet+msg)"
      ],
      "metadata": {
        "colab": {
          "base_uri": "https://localhost:8080/"
        },
        "id": "7GU7gDG9iQ_9",
        "outputId": "f7e57fd2-54ac-4f4a-f78b-ce021a575bc0"
      },
      "execution_count": null,
      "outputs": [
        {
          "output_type": "stream",
          "name": "stdout",
          "text": [
            "helloworld\n"
          ]
        }
      ]
    },
    {
      "cell_type": "code",
      "source": [
        "print(len(greet))"
      ],
      "metadata": {
        "colab": {
          "base_uri": "https://localhost:8080/"
        },
        "id": "4GjqxgCPiTiK",
        "outputId": "5995a63c-818c-487f-cf08-516bf5a6c917"
      },
      "execution_count": null,
      "outputs": [
        {
          "output_type": "stream",
          "name": "stdout",
          "text": [
            "5\n"
          ]
        }
      ]
    },
    {
      "cell_type": "code",
      "source": [
        "print(len(msg))"
      ],
      "metadata": {
        "colab": {
          "base_uri": "https://localhost:8080/"
        },
        "id": "nwL1Gh8riZR-",
        "outputId": "4fbe264f-cac0-4ef4-8563-1ddc5e1e2ac0"
      },
      "execution_count": null,
      "outputs": [
        {
          "output_type": "stream",
          "name": "stdout",
          "text": [
            "5\n"
          ]
        }
      ]
    },
    {
      "cell_type": "code",
      "source": [
        "'o' in msg"
      ],
      "metadata": {
        "colab": {
          "base_uri": "https://localhost:8080/"
        },
        "id": "pmboos-2ibKI",
        "outputId": "8b668f6e-2ec9-492d-b2fc-67f5eafa3ba5"
      },
      "execution_count": null,
      "outputs": [
        {
          "output_type": "execute_result",
          "data": {
            "text/plain": [
              "True"
            ]
          },
          "metadata": {},
          "execution_count": 57
        }
      ]
    },
    {
      "cell_type": "code",
      "source": [
        "#mutable- can bechanged\n",
        "#immutable -- cant be changed"
      ],
      "metadata": {
        "id": "aK77Xc4vik92"
      },
      "execution_count": null,
      "outputs": []
    },
    {
      "cell_type": "markdown",
      "source": [
        "list can store the data of any type.\n",
        "**Lists are ordered and mutable(can be changed), which means you can change their contents (add, remove, or modify elements) after they are created.**\n",
        "\n",
        "Python lists are defined using square brackets [] and can contain items separated by commas."
      ],
      "metadata": {
        "id": "_yVLUYF0ipC-"
      }
    },
    {
      "cell_type": "code",
      "source": [
        "num_list=[1,2,3,4]"
      ],
      "metadata": {
        "id": "1B_bAp-JjPuL"
      },
      "execution_count": null,
      "outputs": []
    },
    {
      "cell_type": "code",
      "source": [
        "print(type(num_list))"
      ],
      "metadata": {
        "colab": {
          "base_uri": "https://localhost:8080/"
        },
        "id": "8OeRprxdjVkh",
        "outputId": "387faaf5-26f0-4e81-b744-241cfa236ef0"
      },
      "execution_count": null,
      "outputs": [
        {
          "output_type": "stream",
          "name": "stdout",
          "text": [
            "<class 'list'>\n"
          ]
        }
      ]
    },
    {
      "cell_type": "code",
      "source": [
        "num_list[1]='e'"
      ],
      "metadata": {
        "id": "LiE_wM2SjYY9"
      },
      "execution_count": null,
      "outputs": []
    },
    {
      "cell_type": "code",
      "source": [
        "num_list"
      ],
      "metadata": {
        "colab": {
          "base_uri": "https://localhost:8080/"
        },
        "id": "SoBmRYw6jgiO",
        "outputId": "c161f66c-0bd3-49d1-fbbe-6d7e14681bb5"
      },
      "execution_count": null,
      "outputs": [
        {
          "output_type": "execute_result",
          "data": {
            "text/plain": [
              "[1, 'e', 3, 4]"
            ]
          },
          "metadata": {},
          "execution_count": 62
        }
      ]
    },
    {
      "cell_type": "markdown",
      "source": [
        "In Python you can use list slicing to extract a section of a list by specifying a range of indices. The basic format, for list slicing is as follows;\n",
        "\n",
        "\n",
        "new_list = my_list[start:stop:step]\n",
        "\n",
        "start; This indicates the index at which the slicing begins (inclusive).\n",
        "If not provided it will start from the beginning of the list.\n",
        "stop; This indicates the index at which the slicing ends (exclusive).\n",
        "If not provided it will go until the end of the list.\n",
        "step; This specifies how much to increment or step through during slicing. If not provided it defaults to 1.\n",
        "\n",
        "This way you can easily extract subsets of data from a list using Pythons list slicing feature."
      ],
      "metadata": {
        "id": "bG0ICdnfkjkg"
      }
    },
    {
      "cell_type": "code",
      "source": [
        "#slicing\n",
        "num=[1,2,3,4,5]\n",
        "print(num[1:4])#extracts elements from index 1 till index 3"
      ],
      "metadata": {
        "colab": {
          "base_uri": "https://localhost:8080/"
        },
        "id": "8B7_3weJjiFV",
        "outputId": "acba618a-474c-4117-ed8c-2f15d880093c"
      },
      "execution_count": null,
      "outputs": [
        {
          "output_type": "stream",
          "name": "stdout",
          "text": [
            "[2, 3, 4]\n"
          ]
        }
      ]
    },
    {
      "cell_type": "code",
      "source": [
        "print(num)\n",
        "print(num[-3:-1])#extracts elements from index 3 to second last"
      ],
      "metadata": {
        "colab": {
          "base_uri": "https://localhost:8080/"
        },
        "id": "5xr_0GjGlb1V",
        "outputId": "248dd568-018f-4e0c-ff6a-0b55a896c1e4"
      },
      "execution_count": null,
      "outputs": [
        {
          "output_type": "stream",
          "name": "stdout",
          "text": [
            "[1, 2, 3, 4, 5]\n",
            "[3, 4]\n"
          ]
        }
      ]
    },
    {
      "cell_type": "code",
      "source": [
        "list=[1,2,\"apple\"]\n",
        "print(type(list))"
      ],
      "metadata": {
        "id": "fV9bak4ClrQI",
        "colab": {
          "base_uri": "https://localhost:8080/"
        },
        "outputId": "a0bbc5ea-76a1-441a-d310-6901a6784a67"
      },
      "execution_count": null,
      "outputs": [
        {
          "output_type": "stream",
          "name": "stdout",
          "text": [
            "<class 'list'>\n"
          ]
        }
      ]
    },
    {
      "cell_type": "code",
      "source": [
        "list2=[3,4,6]\n",
        "#adds the list2 at the end of the first list\n",
        "list.append(list2)\n",
        "print(list)\n",
        "#displays the index of the given element in the list\n",
        "print(list.index('apple'))"
      ],
      "metadata": {
        "colab": {
          "base_uri": "https://localhost:8080/"
        },
        "id": "daJfaGoYc2ep",
        "outputId": "a45eb878-b79a-4821-8066-c50a58106517"
      },
      "execution_count": null,
      "outputs": [
        {
          "output_type": "stream",
          "name": "stdout",
          "text": [
            "[1, 2, 'apple', [3, 4, 6]]\n",
            "2\n"
          ]
        }
      ]
    },
    {
      "cell_type": "code",
      "source": [
        "#removes the last element that has been added to the list\n",
        "print(list.pop())"
      ],
      "metadata": {
        "colab": {
          "base_uri": "https://localhost:8080/"
        },
        "id": "JDA_02rSc3Zi",
        "outputId": "d1868dc6-c573-481d-9918-e60981775633"
      },
      "execution_count": null,
      "outputs": [
        {
          "output_type": "stream",
          "name": "stdout",
          "text": [
            "[3, 4, 6]\n"
          ]
        }
      ]
    },
    {
      "cell_type": "code",
      "source": [
        "print(list)\n",
        "list.append(2)\n",
        "print(list)\n",
        "#counts the number of occurence of the given element\n",
        "print(list.count(2))"
      ],
      "metadata": {
        "colab": {
          "base_uri": "https://localhost:8080/"
        },
        "id": "wx3ScPOHc8xc",
        "outputId": "3ff5957f-526e-46fb-d5fa-cafff0d50a05"
      },
      "execution_count": null,
      "outputs": [
        {
          "output_type": "stream",
          "name": "stdout",
          "text": [
            "[1, 2, 'apple']\n",
            "[1, 2, 'apple', 2]\n",
            "2\n"
          ]
        }
      ]
    },
    {
      "cell_type": "code",
      "source": [
        "fruits=['apple','banana','mango']\n",
        "\n",
        "print(fruits)"
      ],
      "metadata": {
        "colab": {
          "base_uri": "https://localhost:8080/"
        },
        "id": "Kt2z3lD4dESp",
        "outputId": "daadafce-35d9-4f89-d3e1-817d7ec01f8a"
      },
      "execution_count": null,
      "outputs": [
        {
          "output_type": "stream",
          "name": "stdout",
          "text": [
            "['apple', 'banana', 'mango']\n"
          ]
        }
      ]
    },
    {
      "cell_type": "code",
      "source": [
        "#appends orange to the fruits list\n",
        "fruits.append('orange')"
      ],
      "metadata": {
        "id": "3Di6yp53dIEH"
      },
      "execution_count": null,
      "outputs": []
    },
    {
      "cell_type": "code",
      "source": [
        "fruits"
      ],
      "metadata": {
        "colab": {
          "base_uri": "https://localhost:8080/"
        },
        "id": "TYYxEzuqdLeg",
        "outputId": "8da39ed8-3d98-4664-9f4a-b4f49ac6a86e"
      },
      "execution_count": null,
      "outputs": [
        {
          "output_type": "execute_result",
          "data": {
            "text/plain": [
              "['apple', 'banana', 'mango', 'orange']"
            ]
          },
          "metadata": {},
          "execution_count": 71
        }
      ]
    },
    {
      "cell_type": "code",
      "source": [
        "flavor=['vanilla','butter scotch']\n",
        "#append flavor list to fruits list\n",
        "fruits.append(flavor)\n",
        "print(fruits)"
      ],
      "metadata": {
        "colab": {
          "base_uri": "https://localhost:8080/"
        },
        "id": "xPYWF2BAdOg8",
        "outputId": "dde145dd-08fe-4c13-e343-f6c7e62f11dc"
      },
      "execution_count": null,
      "outputs": [
        {
          "output_type": "stream",
          "name": "stdout",
          "text": [
            "['apple', 'banana', 'mango', 'orange', ['vanilla', 'butter scotch']]\n"
          ]
        }
      ]
    },
    {
      "cell_type": "code",
      "source": [
        "#reverse the order of elements in the list\n",
        "fruits.reverse()"
      ],
      "metadata": {
        "id": "kS5PUxp0dR7N"
      },
      "execution_count": null,
      "outputs": []
    },
    {
      "cell_type": "code",
      "source": [
        "fruits"
      ],
      "metadata": {
        "colab": {
          "base_uri": "https://localhost:8080/"
        },
        "id": "vjWpyTGedVPX",
        "outputId": "2e88f205-fa7b-4243-919d-199ad8bab025"
      },
      "execution_count": null,
      "outputs": [
        {
          "output_type": "execute_result",
          "data": {
            "text/plain": [
              "[['vanilla', 'butter scotch'], 'orange', 'mango', 'banana', 'apple']"
            ]
          },
          "metadata": {},
          "execution_count": 74
        }
      ]
    },
    {
      "cell_type": "code",
      "source": [
        "#copies the fruits list into merged\n",
        "merged=fruits.copy()\n",
        "print(type(merged))"
      ],
      "metadata": {
        "colab": {
          "base_uri": "https://localhost:8080/"
        },
        "id": "it9esWB8dYT3",
        "outputId": "a78acc37-229b-4b8b-91d4-1d1c1efac94a"
      },
      "execution_count": null,
      "outputs": [
        {
          "output_type": "stream",
          "name": "stdout",
          "text": [
            "<class 'list'>\n"
          ]
        }
      ]
    },
    {
      "cell_type": "code",
      "source": [
        "print(merged)"
      ],
      "metadata": {
        "colab": {
          "base_uri": "https://localhost:8080/"
        },
        "id": "BpBzobvSdfkv",
        "outputId": "65aae1c9-f98f-445c-ac51-20d63ce726fd"
      },
      "execution_count": null,
      "outputs": [
        {
          "output_type": "stream",
          "name": "stdout",
          "text": [
            "[['vanilla', 'butter scotch'], 'orange', 'mango', 'banana', 'apple']\n"
          ]
        }
      ]
    },
    {
      "cell_type": "code",
      "source": [
        "#remove the specified element from the list\n",
        "merged.remove('apple')"
      ],
      "metadata": {
        "id": "NxZ0bBUmdiO7"
      },
      "execution_count": null,
      "outputs": []
    },
    {
      "cell_type": "code",
      "source": [
        "print(merged)"
      ],
      "metadata": {
        "colab": {
          "base_uri": "https://localhost:8080/"
        },
        "id": "Xqjz63jmdmJJ",
        "outputId": "d2386ea2-5d8d-4628-9581-a6d2368d6d97"
      },
      "execution_count": null,
      "outputs": [
        {
          "output_type": "stream",
          "name": "stdout",
          "text": [
            "[['vanilla', 'butter scotch'], 'orange', 'mango', 'banana']\n"
          ]
        }
      ]
    },
    {
      "cell_type": "code",
      "source": [
        "flavor"
      ],
      "metadata": {
        "colab": {
          "base_uri": "https://localhost:8080/"
        },
        "id": "vA32BX3RdpAr",
        "outputId": "1066fa58-34a5-453f-c1a0-09404621f1ff"
      },
      "execution_count": null,
      "outputs": [
        {
          "output_type": "execute_result",
          "data": {
            "text/plain": [
              "['vanilla', 'butter scotch']"
            ]
          },
          "metadata": {},
          "execution_count": 79
        }
      ]
    },
    {
      "cell_type": "code",
      "source": [
        "#sorts the list element\n",
        "flavor.sort()"
      ],
      "metadata": {
        "id": "zPb0CbTldr6-"
      },
      "execution_count": null,
      "outputs": []
    },
    {
      "cell_type": "code",
      "source": [
        "flavor"
      ],
      "metadata": {
        "colab": {
          "base_uri": "https://localhost:8080/"
        },
        "id": "FjHpZzmWdxM4",
        "outputId": "8b27cea6-128f-4b49-c411-e6cafa64efa5"
      },
      "execution_count": null,
      "outputs": [
        {
          "output_type": "execute_result",
          "data": {
            "text/plain": [
              "['butter scotch', 'vanilla']"
            ]
          },
          "metadata": {},
          "execution_count": 81
        }
      ]
    },
    {
      "cell_type": "code",
      "source": [
        "#displays the index of the specified element\n",
        "flavor.index('vanilla')"
      ],
      "metadata": {
        "colab": {
          "base_uri": "https://localhost:8080/"
        },
        "id": "VDO7c8KKd2QI",
        "outputId": "c0eff5f2-4fd5-4374-f545-af1683a5fc14"
      },
      "execution_count": null,
      "outputs": [
        {
          "output_type": "execute_result",
          "data": {
            "text/plain": [
              "1"
            ]
          },
          "metadata": {},
          "execution_count": 82
        }
      ]
    },
    {
      "cell_type": "code",
      "source": [
        "merged"
      ],
      "metadata": {
        "colab": {
          "base_uri": "https://localhost:8080/"
        },
        "id": "qTWw8HsAd4lA",
        "outputId": "c5390f1c-85a5-4557-cd38-8fa6e1f242c2"
      },
      "execution_count": null,
      "outputs": [
        {
          "output_type": "execute_result",
          "data": {
            "text/plain": [
              "[['butter scotch', 'vanilla'], 'orange', 'mango', 'banana']"
            ]
          },
          "metadata": {},
          "execution_count": 83
        }
      ]
    },
    {
      "cell_type": "code",
      "source": [
        "#adds the  elements of flavor list to merged list\n",
        "merged.extend(flavor)"
      ],
      "metadata": {
        "id": "2YJyKS5yd9YI"
      },
      "execution_count": null,
      "outputs": []
    },
    {
      "cell_type": "code",
      "source": [
        "merged"
      ],
      "metadata": {
        "colab": {
          "base_uri": "https://localhost:8080/"
        },
        "id": "GcfnaJUseBgB",
        "outputId": "8112d7c5-53f7-41da-9973-6d4185a1c7af"
      },
      "execution_count": null,
      "outputs": [
        {
          "output_type": "execute_result",
          "data": {
            "text/plain": [
              "[['butter scotch', 'vanilla'],\n",
              " 'orange',\n",
              " 'mango',\n",
              " 'banana',\n",
              " 'butter scotch',\n",
              " 'vanilla']"
            ]
          },
          "metadata": {},
          "execution_count": 85
        }
      ]
    },
    {
      "cell_type": "code",
      "source": [],
      "metadata": {
        "id": "QYPkBg_yeDyk"
      },
      "execution_count": null,
      "outputs": []
    }
  ]
}